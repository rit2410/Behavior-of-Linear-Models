{
 "cells": [
  {
   "cell_type": "markdown",
   "metadata": {
    "id": "5HExLQrE4ZxR"
   },
   "source": [
    "<h1><font color='blue'> 8E and 8F: Finding the Probability P(Y==1|X)</font></h1>"
   ]
  },
  {
   "cell_type": "markdown",
   "metadata": {
    "id": "4LuKrFzC4ZxV"
   },
   "source": [
    "<h2><font color='Geen'> 8E: Implementing Decision Function of SVM RBF Kernel</font></h2>"
   ]
  },
  {
   "cell_type": "markdown",
   "metadata": {
    "id": "1wES-wWN4ZxX"
   },
   "source": [
    "<font face=' Comic Sans MS' size=3>After we train a kernel SVM model, we will be getting support vectors and their corresponsing coefficients $\\alpha_{i}$\n",
    "\n",
    "Check the documentation for better understanding of these attributes: \n",
    "\n",
    "https://scikit-learn.org/stable/modules/generated/sklearn.svm.SVC.html\n",
    "<img src='https://i.imgur.com/K11msU4.png' width=500>\n",
    "\n",
    "As a part of this assignment you will be implementing the ```decision_function()``` of kernel SVM, here decision_function() means based on the value return by ```decision_function()``` model will classify the data point either as positive or negative\n",
    "\n",
    "Ex 1: In logistic regression After traning the models with the optimal weights $w$ we get, we will find the value $\\frac{1}{1+\\exp(-(wx+b))}$, if this value comes out to be < 0.5 we will mark it as negative class, else its positive class\n",
    "\n",
    "Ex 2: In Linear SVM After traning the models with the optimal weights $w$ we get, we will find the value of $sign(wx+b)$, if this value comes out to be -ve we will mark it as negative class, else its positive class.\n",
    "\n",
    "Similarly in Kernel SVM After traning the models with the coefficients $\\alpha_{i}$ we get, we will find the value of \n",
    "$sign(\\sum_{i=1}^{n}(y_{i}\\alpha_{i}K(x_{i},x_{q})) + intercept)$, here $K(x_{i},x_{q})$ is the RBF kernel. If this value comes out to be -ve we will mark $x_{q}$ as negative class, else its positive class.\n",
    "\n",
    "RBF kernel is defined as: $K(x_{i},x_{q})$ = $exp(-\\gamma ||x_{i} - x_{q}||^2)$\n",
    "\n",
    "For better understanding check this link: https://scikit-learn.org/stable/modules/svm.html#svm-mathematical-formulation\n",
    "</font>"
   ]
  },
  {
   "cell_type": "markdown",
   "metadata": {
    "id": "z830CfMk4Zxa"
   },
   "source": [
    "## Task E"
   ]
  },
  {
   "cell_type": "markdown",
   "metadata": {
    "id": "MuBxHiCQ4Zxc"
   },
   "source": [
    "> 1. Split the data into $X_{train}$(60), $X_{cv}$(20), $X_{test}$(20)\n",
    "\n",
    "> 2. Train $SVC(gamma=0.001, C=100.)$ on the ($X_{train}$, $y_{train}$)\n",
    "\n",
    "> 3. Get the decision boundry values $f_{cv}$ on the $X_{cv}$ data  i.e. ` `$f_{cv}$ ```= decision_function(```$X_{cv}$```)```  <font color='red'>you need to implement this decision_function()</font>"
   ]
  },
  {
   "cell_type": "markdown",
   "metadata": {
    "id": "tHie1zqH4Zxt"
   },
   "source": [
    "### Pseudo code\n",
    "\n",
    "clf = SVC(gamma=0.001, C=100.)<br>\n",
    "clf.fit(Xtrain, ytrain)\n",
    "\n",
    "<font color='green'>def</font> <font color='blue'>decision_function</font>(Xcv, ...): #use appropriate parameters <br>\n",
    "&nbsp;&nbsp;&nbsp;&nbsp;&nbsp;&nbsp;<font color='green'>for</font> a data point $x_q$ <font color='green'>in</font> Xcv: <br>\n",
    "&nbsp;&nbsp;&nbsp;&nbsp;&nbsp;&nbsp;&nbsp;&nbsp;&nbsp;&nbsp;&nbsp;&nbsp;<font color='grey'>#write code to implement $(\\sum_{i=1}^{\\text{all the support vectors}}(y_{i}\\alpha_{i}K(x_{i},x_{q})) + intercept)$, here the values $y_i$, $\\alpha_{i}$, and $intercept$ can be obtained from the trained model</font><br>\n",
    "   <font color='green'>return</font> <font color='grey'><i># the decision_function output for all the data points in the Xcv</i></font>\n",
    "    \n",
    "fcv = decision_function(Xcv, ...)  <i># based on your requirement you can pass any other parameters </i>\n",
    "\n",
    "<b>Note</b>: Make sure the values you get as fcv, should be equal to outputs of clf.decision_function(Xcv)\n"
   ]
  },
  {
   "cell_type": "code",
   "execution_count": 1,
   "metadata": {
    "id": "fCgMNEvI4Zxf"
   },
   "outputs": [],
   "source": [
    "import numpy as np\n",
    "import pandas as pd\n",
    "from sklearn.datasets import make_classification\n",
    "import numpy as np\n",
    "from sklearn.svm import SVC\n",
    "from sklearn.model_selection import train_test_split\n",
    "from sklearn.preprocessing import StandardScaler\n",
    "import tqdm\n",
    "from tqdm import tqdm\n",
    "import matplotlib.pyplot as plt"
   ]
  },
  {
   "cell_type": "code",
   "execution_count": 2,
   "metadata": {
    "id": "ANUNIqCe4Zxn"
   },
   "outputs": [],
   "source": [
    "X, y = make_classification(n_samples=5000, n_features=5, n_redundant=2,\n",
    "                           n_classes=2, weights=[0.7], class_sep=0.7, random_state=15)\n",
    "\n",
    "X_train, X_test_cv, y_train, y_test_cv = train_test_split(X, y, test_size=0.4, random_state=15)\n",
    "\n",
    "X_cv, X_test, y_test, y_cv = train_test_split(X_test_cv, y_test_cv, test_size=0.5, random_state=15)\n",
    "\n",
    "clf = SVC(gamma = 0.001, C= 100)\n",
    "clf.fit(X_train,y_train)\n",
    "\n",
    "dual_coef = clf.dual_coef_[0]\n",
    "# print (len(dual_coef))\n",
    "\n",
    "intercept = clf.intercept_[0]\n",
    "# print (intercept)\n",
    "\n",
    "sup_vec = clf.support_vectors_\n",
    "# print (len(sup_vec))\n",
    "\n",
    "\n",
    "\n",
    "def decision_function(X_cv, sup_vec, dual_coef, intercept,gamma = 0.001):\n",
    "    f_cv = []\n",
    "    for 𝑥_𝑞 in X_cv:\n",
    "        sum_q = 0\n",
    "        for i in range(0,len(sup_vec)):\n",
    "#             print (sup_vec[i])\n",
    "            norm2 = np.linalg.norm(sup_vec[i] - x_q)\n",
    "            k = np.exp(-gamma*(norm2**2))\n",
    "            sum_q += dual_coef[i]*k\n",
    "        f_q = sum_q + intercept\n",
    "        f_cv.append(f_q)\n",
    "    return f_cv"
   ]
  },
  {
   "cell_type": "code",
   "execution_count": 3,
   "metadata": {},
   "outputs": [
    {
     "name": "stdout",
     "output_type": "stream",
     "text": [
      "[0. 0. 0. 0. 0. 0. 0. 0. 0. 0.]\n"
     ]
    }
   ],
   "source": [
    "f_cv = decision_function(X_cv,sup_vec,dual_coef,intercept)\n",
    "# print (len(f_cv))\n",
    "\n",
    "val =  clf.decision_function(X_cv)\n",
    "# print (len(val))\n",
    "\n",
    "check = f_cv[15:25] -  val[15:25]\n",
    "print (check)"
   ]
  },
  {
   "cell_type": "markdown",
   "metadata": {
    "id": "c0bKCboN4Zxu"
   },
   "source": [
    "<h2><font color='Geen'> 8F: Implementing Platt Scaling to find P(Y==1|X)</font></h2>"
   ]
  },
  {
   "cell_type": "markdown",
   "metadata": {
    "id": "nMn7OEN94Zxw"
   },
   "source": [
    "Check this <a href='https://drive.google.com/open?id=133odBinMOIVb_rh_GQxxsyMRyW-Zts7a'>PDF</a>\n",
    "<img src='https://i.imgur.com/CAMnVnh.png'>\n"
   ]
  },
  {
   "cell_type": "markdown",
   "metadata": {
    "id": "e0n5EFkx4Zxz"
   },
   "source": [
    "## TASK F"
   ]
  },
  {
   "cell_type": "markdown",
   "metadata": {
    "id": "t0HOqVJq4Zx1"
   },
   "source": [
    "\n",
    "> 4. Apply SGD algorithm with ($f_{cv}$, $y_{cv}$) and find the weight $W$ intercept $b$ ```Note: here our data is of one dimensional so we will have a one dimensional weight vector i.e W.shape (1,)``` \n",
    "\n",
    "> Note1: Don't forget to change the values of $y_{cv}$ as mentioned in the above image. you will calculate y+, y- based on data points in train data\n",
    "\n",
    "> Note2: the Sklearn's SGD algorithm doesn't support the real valued outputs, you need to use the code that was done in the `'Logistic Regression with SGD and L2'` Assignment after modifying loss function, and use same parameters that used in that assignment.\n",
    "<img src='https://i.imgur.com/zKYE9Oc.png'>\n",
    "if Y[i] is 1, it will be replaced with y+ value else it will replaced with y- value\n",
    "\n",
    "> 5. For a given data point from $X_{test}$, $P(Y=1|X) = \\frac{1}{1+exp(-(W*f_{test}+ b))}$ where ` `$f_{test}$ ```= decision_function(```$X_{test}$```)```, W and b will be learned as metioned in the above step"
   ]
  },
  {
   "cell_type": "code",
   "execution_count": 4,
   "metadata": {},
   "outputs": [],
   "source": [
    "n_plus = np.shape(np.where(y_train == 1))[1]\n",
    "n_minus = np.shape(np.where(y_train == 0))[1]\n",
    "\n",
    "y_plus = (n_plus+1)/(n_plus+2)\n",
    "y_minus = 1/(n_minus + 2)\n",
    "\n",
    "y_cv = np.where(y_cv == 1,y_plus,y_minus)\n",
    "f_cv = np.array(f_cv).reshape(-1,1)"
   ]
  },
  {
   "cell_type": "code",
   "execution_count": 5,
   "metadata": {},
   "outputs": [],
   "source": [
    "def initialize_weights(dim):\n",
    "    ''' In this function, we will initialize our weights and bias'''\n",
    "    w = np.zeros_like(dim)\n",
    "    b = 0\n",
    "    return w,b\n",
    "\n",
    "def sigmoid(z):\n",
    "    sigmoid = 1/(1+np.exp(-z))\n",
    "    return sigmoid\n",
    "\n",
    "def loss_function(y_true,y_pred):\n",
    "    '''In this function, we will compute log loss '''\n",
    "    n = len(y_true)\n",
    "    loss_temp = 0\n",
    "    for i in range(0,n):\n",
    "        temp = y_true[i]*np.log10(y_pred[i]) + ((1-y_true[i])*np.log10(1-y_pred[i]))\n",
    "        loss_temp+=temp\n",
    "    loss = -1 * ((loss_temp)/n)\n",
    "    return loss\n",
    "\n",
    "def gradient_dw(f_cv,y_cv,w,b,alpha,N):\n",
    "    '''In this function, we will compute the gardient w.r.to w '''\n",
    "    dw = np.zeros(len(w)) \n",
    "    z = sigmoid(np.matmul(np.transpose(w),f_cv) + b)\n",
    "    dw = f_cv*(y_cv-z) -(alpha/N)*w\n",
    "    return dw\n",
    "\n",
    "def gradient_db(f_cv,y_cv,w,b):\n",
    "    '''In this function, we will compute gradient w.r.to b '''\n",
    "    z = sigmoid(np.matmul(np.transpose(w),f_cv) + b)\n",
    "    db = y_cv - z\n",
    "    return db\n",
    "\n",
    "def train(f_cv,y_cv,epochs,alpha,eta0):\n",
    "    ''' In this function, we will implement logistic regression'''\n",
    "    w,b = initialize_weights(f_cv[0])\n",
    "    cv_loss = np.zeros(epochs)\n",
    "    f_cv_pred = np.zeros(len(f_cv)) \n",
    "\n",
    " \n",
    "    for epoch in tqdm(range(0,epochs)):\n",
    "        for i in range(len(f_cv)):\n",
    "            dw = gradient_dw(f_cv[i],y_cv[i],w,b,alpha,N)\n",
    "            db = gradient_db(f_cv[i],y_cv[i],w,b)\n",
    "            w  = w + eta0*dw\n",
    "            b  = b + eta0*db\n",
    "            \n",
    "        for i in range(len(f_cv)):\n",
    "            f_cv_pred[i] = sigmoid(np.dot(w,f_cv[i])+b)\n",
    "            \n",
    "        cv_loss[epoch] = loss_function(y_cv,f_cv_pred)\n",
    "        \n",
    "    return w,b,cv_loss"
   ]
  },
  {
   "cell_type": "code",
   "execution_count": 6,
   "metadata": {},
   "outputs": [
    {
     "name": "stderr",
     "output_type": "stream",
     "text": [
      "100%|██████████████████████████████████████████████████████████████████████████████████| 14/14 [00:00<00:00, 25.07it/s]\n"
     ]
    }
   ],
   "source": [
    "alpha=0.0001\n",
    "eta0=0.0001\n",
    "N=len(f_cv)\n",
    "epochs= 14\n",
    "w,b,cv_loss = train(f_cv,y_cv,epochs,alpha,eta0)"
   ]
  },
  {
   "cell_type": "code",
   "execution_count": 7,
   "metadata": {},
   "outputs": [
    {
     "name": "stdout",
     "output_type": "stream",
     "text": [
      "[0.12579337]\n",
      "-0.188546075233539\n"
     ]
    },
    {
     "data": {
      "text/plain": [
       "<matplotlib.legend.Legend at 0x288bfd31760>"
      ]
     },
     "execution_count": 7,
     "metadata": {},
     "output_type": "execute_result"
    },
    {
     "data": {
      "image/png": "[encoded data removed]",
      "text/plain": [
       "<Figure size 432x288 with 1 Axes>"
      ]
     },
     "metadata": {
      "needs_background": "light"
     },
     "output_type": "display_data"
    }
   ],
   "source": [
    "print (w)\n",
    "print (b)\n",
    "\n",
    "epochs = np.arange(0, 14, 1)\n",
    "plt.plot(epochs,cv_loss)\n",
    "plt.legend([\"cv_loss\"], loc =\"upper right\")"
   ]
  },
  {
   "cell_type": "code",
   "execution_count": 8,
   "metadata": {},
   "outputs": [],
   "source": [
    "f_test = decision_function(X_test,sup_vec,dual_coef,intercept)"
   ]
  },
  {
   "cell_type": "code",
   "execution_count": 9,
   "metadata": {},
   "outputs": [],
   "source": [
    "predict_proba = []\n",
    "for i in range(0,len(f_test)):\n",
    "    f_test_proba = sigmoid(np.dot(w,f_test[i])+b)\n",
    "    predict_proba.append(f_test_proba)"
   ]
  },
  {
   "cell_type": "code",
   "execution_count": null,
   "metadata": {},
   "outputs": [],
   "source": []
  }
 ],
 "metadata": {
  "colab": {
   "collapsed_sections": [],
   "name": "8E&F_LR_SVM.ipynb",
   "provenance": []
  },
  "kernelspec": {
   "display_name": "Python 3",
   "language": "python",
   "name": "python3"
  },
  "language_info": {
   "codemirror_mode": {
    "name": "ipython",
    "version": 3
   },
   "file_extension": ".py",
   "mimetype": "text/x-python",
   "name": "python",
   "nbconvert_exporter": "python",
   "pygments_lexer": "ipython3",
   "version": "3.9.2"
  }
 },
 "nbformat": 4,
 "nbformat_minor": 4
}
