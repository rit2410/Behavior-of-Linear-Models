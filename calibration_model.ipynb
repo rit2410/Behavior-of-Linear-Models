{
 "cells": [
  {
   "cell_type": "markdown",
   "metadata": {
    "id": "4LuKrFzC4ZxV"
   },
   "source": [
    "<h2><font color='Geen'> 8E: Implementing Decision Function of SVM RBF Kernel</font></h2>"
   ]
  },
  {
   "cell_type": "markdown",
   "metadata": {
    "id": "z830CfMk4Zxa"
   },
   "source": [
    "## Task E"
   ]
  },
  {
   "cell_type": "markdown",
   "metadata": {
    "id": "MuBxHiCQ4Zxc"
   },
   "source": [
    "> 1. Split the data into $X_{train}$(60), $X_{cv}$(20), $X_{test}$(20)\n",
    "\n",
    "> 2. Train $SVC(gamma=0.001, C=100.)$ on the ($X_{train}$, $y_{train}$)\n",
    "\n",
    "> 3. Get the decision boundry values $f_{cv}$ on the $X_{cv}$ data  i.e. ` `$f_{cv}$ ```= decision_function(```$X_{cv}$```)```  <font color='red'>you need to implement this decision_function()</font>"
   ]
  },
  {
   "cell_type": "code",
   "execution_count": 13,
   "metadata": {
    "id": "fCgMNEvI4Zxf"
   },
   "outputs": [],
   "source": [
    "import numpy as np\n",
    "import pandas as pd\n",
    "from sklearn.datasets import make_classification\n",
    "import numpy as np\n",
    "from sklearn.svm import SVC\n",
    "from sklearn.model_selection import train_test_split\n",
    "from sklearn.preprocessing import StandardScaler\n",
    "import tqdm\n",
    "from tqdm import tqdm\n",
    "import matplotlib.pyplot as plt\n",
    "from sklearn.calibration import CalibratedClassifierCV"
   ]
  },
  {
   "cell_type": "code",
   "execution_count": 15,
   "metadata": {
    "id": "ANUNIqCe4Zxn"
   },
   "outputs": [
    {
     "data": {
      "text/plain": [
       "array([[0.68119949, 0.31880051],\n",
       "       [0.68734825, 0.31265175],\n",
       "       [0.68880761, 0.31119239],\n",
       "       ...,\n",
       "       [0.69643871, 0.30356129],\n",
       "       [0.6895459 , 0.3104541 ],\n",
       "       [0.68794717, 0.31205283]])"
      ]
     },
     "execution_count": 15,
     "metadata": {},
     "output_type": "execute_result"
    }
   ],
   "source": [
    "X, y = make_classification(n_samples=5000, n_features=5, n_redundant=2,\n",
    "                           n_classes=2, weights=[0.7], class_sep=0.7, random_state=15)\n",
    "\n",
    "X_train, X_test_cv, y_train, y_test_cv = train_test_split(X, y, test_size=0.4, random_state=15)\n",
    "\n",
    "X_cv, X_test, y_test, y_cv = train_test_split(X_test_cv, y_test_cv, test_size=0.5, random_state=15)\n",
    "\n",
    "clf = SVC(gamma = 0.001, C= 100)\n",
    "clf.fit(X_train,y_train)\n",
    "\n",
    "calibrated_clf = CalibratedClassifierCV(base_estimator=clf)\n",
    "\n",
    "calibrated_clf.fit(X_cv, y_cv)\n",
    "\n",
    "calibrated_clf.predict_proba(X_test)\n",
    "\n",
    "\n",
    "\n",
    "\n",
    "\n",
    "\n",
    "\n",
    "# dual_coef = clf.dual_coef_[0]\n",
    "# # print (len(dual_coef))\n",
    "\n",
    "# intercept = clf.intercept_[0]\n",
    "# # print (intercept)\n",
    "\n",
    "# sup_vec = clf.support_vectors_\n",
    "# # print (len(sup_vec))\n",
    "\n",
    "\n",
    "\n",
    "# def decision_function(X_cv, sup_vec, dual_coef, intercept,gamma = 0.001):\n",
    "#     f_cv = []\n",
    "#     for 𝑥_𝑞 in X_cv:\n",
    "#         sum_q = 0\n",
    "#         for i in range(0,len(sup_vec)):\n",
    "# #             print (sup_vec[i])\n",
    "#             norm2 = np.linalg.norm(sup_vec[i] - x_q)\n",
    "#             k = np.exp(-gamma*(norm2**2))\n",
    "#             sum_q += dual_coef[i]*k\n",
    "#         f_q = sum_q + intercept\n",
    "#         f_cv.append(f_q)\n",
    "#     return f_cv"
   ]
  },
  {
   "cell_type": "code",
   "execution_count": 3,
   "metadata": {},
   "outputs": [
    {
     "name": "stdout",
     "output_type": "stream",
     "text": [
      "[0. 0. 0. 0. 0. 0. 0. 0. 0. 0.]\n"
     ]
    }
   ],
   "source": [
    "f_cv = decision_function(X_cv,sup_vec,dual_coef,intercept)\n",
    "# print (len(f_cv))\n",
    "\n",
    "val =  clf.decision_function(X_cv)\n",
    "# print (len(val))\n",
    "\n",
    "check = f_cv[15:25] -  val[15:25]\n",
    "print (check)"
   ]
  },
  {
   "cell_type": "markdown",
   "metadata": {
    "id": "c0bKCboN4Zxu"
   },
   "source": [
    "<h2><font color='Geen'> 8F: Implementing Platt Scaling to find P(Y==1|X)</font></h2>"
   ]
  },
  {
   "cell_type": "markdown",
   "metadata": {
    "id": "e0n5EFkx4Zxz"
   },
   "source": [
    "## TASK F"
   ]
  },
  {
   "cell_type": "markdown",
   "metadata": {},
   "source": [
    "> 4. Apply SGD algorithm with ($f_{cv}$, $y_{cv}$) and find the weight $W$ intercept $b$ ```Note: here our data is of one dimensional so we will have a one dimensional weight vector i.e W.shape (1,)``` \n",
    "\n",
    "> Note1: Don't forget to change the values of $y_{cv}$ as mentioned in the above image. you will calculate y+, y- based on data points in train data\n",
    "\n",
    "> Note2: the Sklearn's SGD algorithm doesn't support the real valued outputs, you need to use the code that was done in the `'Logistic Regression with SGD and L2'` Assignment after modifying loss function, and use same parameters that used in that assignment.\n",
    "<img src='https://i.imgur.com/zKYE9Oc.png'>\n",
    "if Y[i] is 1, it will be replaced with y+ value else it will replaced with y- value"
   ]
  },
  {
   "cell_type": "code",
   "execution_count": 4,
   "metadata": {},
   "outputs": [],
   "source": [
    "n_plus = np.shape(np.where(y_cv == 1))[1]\n",
    "n_minus = np.shape(np.where(y_cv == 0))[1]\n",
    "\n",
    "y_cv_plus = (n_plus+1)/(n_plus+2)\n",
    "y_cv_minus = 1/(n_minus + 2)\n",
    "\n",
    "y_cv = np.where(y_cv == 1,y_cv_plus,y_cv_minus)\n",
    "f_cv = np.array(f_cv).reshape(-1,1)"
   ]
  },
  {
   "cell_type": "code",
   "execution_count": 11,
   "metadata": {},
   "outputs": [],
   "source": [
    "def initialize_weights(dim):\n",
    "    ''' In this function, we will initialize our weights and bias'''\n",
    "    w = np.zeros_like(dim)\n",
    "    b = 0\n",
    "    return w,b\n",
    "\n",
    "def sigmoid(z):\n",
    "    sigmoid = 1/(1+np.exp(-z))\n",
    "    return sigmoid\n",
    "\n",
    "def loss_function(y_true,y_pred):\n",
    "    '''In this function, we will compute log loss '''\n",
    "    n = len(y_true)\n",
    "    loss_temp = 0\n",
    "    for i in range(0,n):\n",
    "        temp = y_true[i]*np.log10(y_pred[i]) + ((1-y_true[i])*np.log10(1-y_pred[i]))\n",
    "        loss_temp+=temp\n",
    "    loss = -1 * ((loss_temp)/n)\n",
    "    return loss\n",
    "\n",
    "def gradient_dw(f_cv,y_cv,w,b,alpha,N):\n",
    "    '''In this function, we will compute the gardient w.r.to w '''\n",
    "    dw = np.zeros(len(w)) \n",
    "    z = sigmoid(np.matmul(np.transpose(w),f_cv) + b)\n",
    "    dw = f_cv*(y_cv-z) -(alpha/N)*w\n",
    "    return dw\n",
    "\n",
    "def gradient_db(f_cv,y_cv,w,b):\n",
    "    '''In this function, we will compute gradient w.r.to b '''\n",
    "    z = sigmoid(np.matmul(np.transpose(w),f_cv) + b)\n",
    "    db = y_cv - z\n",
    "    return db\n",
    "\n",
    "def train(f_cv,y_cv,epochs,alpha,eta0):\n",
    "    ''' In this function, we will implement logistic regression'''\n",
    "    w,b = initialize_weights(f_cv[0])\n",
    "    cv_loss = np.zeros(epochs)\n",
    "    f_cv_pred = np.zeros(len(f_cv)) \n",
    "\n",
    " \n",
    "    for epoch in tqdm(range(0,epochs)):\n",
    "        for i in range(len(f_cv)):\n",
    "            dw = gradient_dw(f_cv[i],y_cv[i],w,b,alpha,N)\n",
    "            db = gradient_db(f_cv[i],y_cv[i],w,b)\n",
    "            w  = w + eta0*dw\n",
    "            b  = b + eta0*db\n",
    "            \n",
    "        for i in range(0,len(f_cv)):\n",
    "            f_cv_pred[i] = sigmoid(np.dot(w,f_cv[i])+b)\n",
    "            \n",
    "        cv_loss[epoch] = loss_function(y_cv,f_cv_pred)\n",
    "        \n",
    "    return w,b,cv_loss"
   ]
  },
  {
   "cell_type": "code",
   "execution_count": 12,
   "metadata": {},
   "outputs": [
    {
     "name": "stderr",
     "output_type": "stream",
     "text": [
      "100%|██████████████████████████████████████████████████████████████████████████████████| 14/14 [00:00<00:00, 32.22it/s]"
     ]
    },
    {
     "name": "stdout",
     "output_type": "stream",
     "text": [
      "[0.12575653]\n",
      "-0.18851785037755978\n"
     ]
    },
    {
     "name": "stderr",
     "output_type": "stream",
     "text": [
      "\n"
     ]
    },
    {
     "data": {
      "text/plain": [
       "<matplotlib.legend.Legend at 0x1c2a3e51f70>"
      ]
     },
     "execution_count": 12,
     "metadata": {},
     "output_type": "execute_result"
    },
    {
     "data": {
      "image/png": "[encoded data removed]",
      "text/plain": [
       "<Figure size 432x288 with 1 Axes>"
      ]
     },
     "metadata": {
      "needs_background": "light"
     },
     "output_type": "display_data"
    }
   ],
   "source": [
    "alpha=0.0001\n",
    "eta0=0.0001\n",
    "N=len(f_cv)\n",
    "epochs= 14\n",
    "w,b,cv_loss = train(f_cv,y_cv,epochs,alpha,eta0)\n",
    "\n",
    "print (w)\n",
    "print (b)\n",
    "\n",
    "epochs = np.arange(0, 14, 1)\n",
    "plt.plot(epochs,cv_loss)\n",
    "plt.legend([\"cv_loss\"], loc =\"upper right\")"
   ]
  },
  {
   "cell_type": "code",
   "execution_count": null,
   "metadata": {},
   "outputs": [],
   "source": []
  }
 ],
 "metadata": {
  "colab": {
   "collapsed_sections": [],
   "name": "8E&F_LR_SVM.ipynb",
   "provenance": []
  },
  "kernelspec": {
   "display_name": "Python 3",
   "language": "python",
   "name": "python3"
  },
  "language_info": {
   "codemirror_mode": {
    "name": "ipython",
    "version": 3
   },
   "file_extension": ".py",
   "mimetype": "text/x-python",
   "name": "python",
   "nbconvert_exporter": "python",
   "pygments_lexer": "ipython3",
   "version": "3.9.2"
  }
 },
 "nbformat": 4,
 "nbformat_minor": 4
}
